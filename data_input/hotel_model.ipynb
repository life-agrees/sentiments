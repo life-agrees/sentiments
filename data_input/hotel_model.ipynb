{
 "cells": [
  {
   "cell_type": "code",
   "execution_count": 22,
   "metadata": {},
   "outputs": [
    {
     "name": "stdout",
     "output_type": "stream",
     "text": [
      "2.0.3\n"
     ]
    }
   ],
   "source": [
    "import pandas  as pd\n",
    "import numpy as np\n",
    "from sklearn.feature_extraction.text import TfidfVectorizer \n",
    "from sklearn.preprocessing import LabelEncoder\n",
    "from xgboost import XGBClassifier\n",
    "from sklearn.linear_model import LogisticRegression\n",
    "from sklearn.model_selection import train_test_split\n",
    "from sklearn.metrics import classification_report,confusion_matrix,accuracy_score\n",
    "import warnings\n",
    "import xgboost\n",
    "print(xgboost.__version__)\n",
    "\n",
    "warnings.filterwarnings('ignore')"
   ]
  },
  {
   "cell_type": "code",
   "execution_count": 2,
   "metadata": {},
   "outputs": [],
   "source": [
    "df = pd.read_csv('cleaned_data.csv')"
   ]
  },
  {
   "cell_type": "code",
   "execution_count": 3,
   "metadata": {},
   "outputs": [
    {
     "data": {
      "text/html": [
       "<div>\n",
       "<style scoped>\n",
       "    .dataframe tbody tr th:only-of-type {\n",
       "        vertical-align: middle;\n",
       "    }\n",
       "\n",
       "    .dataframe tbody tr th {\n",
       "        vertical-align: top;\n",
       "    }\n",
       "\n",
       "    .dataframe thead th {\n",
       "        text-align: right;\n",
       "    }\n",
       "</style>\n",
       "<table border=\"1\" class=\"dataframe\">\n",
       "  <thead>\n",
       "    <tr style=\"text-align: right;\">\n",
       "      <th></th>\n",
       "      <th>Review</th>\n",
       "      <th>Rating</th>\n",
       "      <th>Sentiment</th>\n",
       "      <th>lenght_of_reviews</th>\n",
       "    </tr>\n",
       "  </thead>\n",
       "  <tbody>\n",
       "    <tr>\n",
       "      <th>0</th>\n",
       "      <td>nice hotel expensive parking got good deal sta...</td>\n",
       "      <td>4</td>\n",
       "      <td>Positive</td>\n",
       "      <td>593</td>\n",
       "    </tr>\n",
       "    <tr>\n",
       "      <th>1</th>\n",
       "      <td>ok nothing special charge diamond member hilto...</td>\n",
       "      <td>2</td>\n",
       "      <td>Negative</td>\n",
       "      <td>1689</td>\n",
       "    </tr>\n",
       "    <tr>\n",
       "      <th>2</th>\n",
       "      <td>nice room experience hotel monaco seattle good...</td>\n",
       "      <td>3</td>\n",
       "      <td>Negative</td>\n",
       "      <td>1427</td>\n",
       "    </tr>\n",
       "    <tr>\n",
       "      <th>3</th>\n",
       "      <td>unique great stay wonderful time hotel monaco ...</td>\n",
       "      <td>5</td>\n",
       "      <td>Positive</td>\n",
       "      <td>600</td>\n",
       "    </tr>\n",
       "    <tr>\n",
       "      <th>4</th>\n",
       "      <td>great stay great stay went seahawk game awesom...</td>\n",
       "      <td>5</td>\n",
       "      <td>Positive</td>\n",
       "      <td>1281</td>\n",
       "    </tr>\n",
       "  </tbody>\n",
       "</table>\n",
       "</div>"
      ],
      "text/plain": [
       "                                              Review  Rating Sentiment  \\\n",
       "0  nice hotel expensive parking got good deal sta...       4  Positive   \n",
       "1  ok nothing special charge diamond member hilto...       2  Negative   \n",
       "2  nice room experience hotel monaco seattle good...       3  Negative   \n",
       "3  unique great stay wonderful time hotel monaco ...       5  Positive   \n",
       "4  great stay great stay went seahawk game awesom...       5  Positive   \n",
       "\n",
       "   lenght_of_reviews  \n",
       "0                593  \n",
       "1               1689  \n",
       "2               1427  \n",
       "3                600  \n",
       "4               1281  "
      ]
     },
     "execution_count": 3,
     "metadata": {},
     "output_type": "execute_result"
    }
   ],
   "source": [
    "df.head()"
   ]
  },
  {
   "cell_type": "markdown",
   "metadata": {},
   "source": [
    "##model building##"
   ]
  },
  {
   "cell_type": "code",
   "execution_count": 4,
   "metadata": {},
   "outputs": [
    {
     "data": {
      "text/plain": [
       "Rating\n",
       "5    9054\n",
       "4    6039\n",
       "3    2184\n",
       "2    1793\n",
       "1    1421\n",
       "Name: count, dtype: int64"
      ]
     },
     "execution_count": 4,
     "metadata": {},
     "output_type": "execute_result"
    }
   ],
   "source": [
    "\n",
    "df['Rating'].value_counts()"
   ]
  },
  {
   "cell_type": "code",
   "execution_count": 5,
   "metadata": {},
   "outputs": [],
   "source": [
    "X = df['Review']\n",
    "y = df['Sentiment']"
   ]
  },
  {
   "cell_type": "code",
   "execution_count": 6,
   "metadata": {},
   "outputs": [],
   "source": [
    "le = LabelEncoder()\n",
    "\n",
    "y = le.fit_transform(y)"
   ]
  },
  {
   "cell_type": "code",
   "execution_count": null,
   "metadata": {},
   "outputs": [],
   "source": []
  },
  {
   "cell_type": "code",
   "execution_count": 7,
   "metadata": {},
   "outputs": [],
   "source": [
    "tfidf = TfidfVectorizer()\n",
    "\n",
    "X = tfidf.fit_transform(X)"
   ]
  },
  {
   "cell_type": "code",
   "execution_count": 8,
   "metadata": {},
   "outputs": [],
   "source": [
    "X_train, X_test, y_train, y_test = train_test_split(X, y, test_size=0.3, random_state=100)"
   ]
  },
  {
   "cell_type": "code",
   "execution_count": 9,
   "metadata": {},
   "outputs": [
    {
     "data": {
      "text/plain": [
       "((14343,), (14343, 43257))"
      ]
     },
     "execution_count": 9,
     "metadata": {},
     "output_type": "execute_result"
    }
   ],
   "source": [
    "y_train.shape , X_train.shape"
   ]
  },
  {
   "cell_type": "code",
   "execution_count": 10,
   "metadata": {},
   "outputs": [],
   "source": [
    "def data_model():\n",
    "    model = {\n",
    "        'LogisticRegression': LogisticRegression(),\n",
    "        'XGBClassifier': XGBClassifier()\n",
    "    }\n",
    "    return model"
   ]
  },
  {
   "cell_type": "code",
   "execution_count": 11,
   "metadata": {},
   "outputs": [],
   "source": [
    "models = data_model ()\n",
    "\n",
    "for name, model in models.items():\n",
    "    model.fit(X_train, y_train)"
   ]
  },
  {
   "cell_type": "code",
   "execution_count": 12,
   "metadata": {},
   "outputs": [
    {
     "name": "stdout",
     "output_type": "stream",
     "text": [
      "Evalution:LogisticRegression\n",
      "Accuracy:0.8911841249186727\n",
      "Classification Report:\n",
      "               precision    recall  f1-score   support\n",
      "\n",
      "           0       0.87      0.69      0.77      1626\n",
      "           1       0.90      0.96      0.93      4522\n",
      "\n",
      "    accuracy                           0.89      6148\n",
      "   macro avg       0.88      0.83      0.85      6148\n",
      "weighted avg       0.89      0.89      0.89      6148\n",
      "\n",
      "Confusion Matrix:\n",
      " [[1120  506]\n",
      " [ 163 4359]]\n",
      "\n",
      "\n",
      "Evalution:XGBClassifier\n",
      "Accuracy:0.874430709173715\n",
      "Classification Report:\n",
      "               precision    recall  f1-score   support\n",
      "\n",
      "           0       0.81      0.68      0.74      1626\n",
      "           1       0.89      0.94      0.92      4522\n",
      "\n",
      "    accuracy                           0.87      6148\n",
      "   macro avg       0.85      0.81      0.83      6148\n",
      "weighted avg       0.87      0.87      0.87      6148\n",
      "\n",
      "Confusion Matrix:\n",
      " [[1112  514]\n",
      " [ 258 4264]]\n",
      "\n",
      "\n"
     ]
    }
   ],
   "source": [
    "for name,model in models.items():\n",
    "    prediction = model.predict(X_test)\n",
    "    print(f'Evalution:{name}')\n",
    "    print(f'Accuracy:{accuracy_score(y_test,prediction)}')\n",
    "    print(f'Classification Report:\\n {classification_report(y_test,prediction)}')\n",
    "    print(f'Confusion Matrix:\\n {confusion_matrix(y_test,prediction)}')\n",
    "    print('\\n')"
   ]
  },
  {
   "cell_type": "code",
   "execution_count": 13,
   "metadata": {},
   "outputs": [],
   "source": [
    "from sklearn.model_selection import GridSearchCV"
   ]
  },
  {
   "cell_type": "code",
   "execution_count": 14,
   "metadata": {},
   "outputs": [],
   "source": [
    "log = LogisticRegression()"
   ]
  },
  {
   "cell_type": "code",
   "execution_count": 15,
   "metadata": {},
   "outputs": [],
   "source": [
    "param_grid = {\n",
    "    'solver': ['liblinear','newton-cg','lbfgs'],\n",
    "    'C': [0.001, 0.01, 0.1, 1, 10, 100, 1000],\n",
    "    'penalty': ['l1', 'l2']\n",
    "\n",
    "}"
   ]
  },
  {
   "cell_type": "code",
   "execution_count": 16,
   "metadata": {},
   "outputs": [
    {
     "name": "stdout",
     "output_type": "stream",
     "text": [
      "Fitting 3 folds for each of 42 candidates, totalling 126 fits\n",
      "[CV] END ..............C=0.001, penalty=l1, solver=liblinear; total time=   0.2s\n",
      "[CV] END ..............C=0.001, penalty=l1, solver=liblinear; total time=   0.0s\n",
      "[CV] END ..............C=0.001, penalty=l1, solver=liblinear; total time=   0.0s\n",
      "[CV] END ..............C=0.001, penalty=l1, solver=newton-cg; total time=   0.0s\n",
      "[CV] END ..............C=0.001, penalty=l1, solver=newton-cg; total time=   0.0s\n",
      "[CV] END ..............C=0.001, penalty=l1, solver=newton-cg; total time=   0.0s\n",
      "[CV] END ..................C=0.001, penalty=l1, solver=lbfgs; total time=   0.0s\n",
      "[CV] END ..................C=0.001, penalty=l1, solver=lbfgs; total time=   0.0s\n",
      "[CV] END ..................C=0.001, penalty=l1, solver=lbfgs; total time=   0.0s\n",
      "[CV] END ..............C=0.001, penalty=l2, solver=liblinear; total time=   0.1s\n",
      "[CV] END ..............C=0.001, penalty=l2, solver=liblinear; total time=   0.0s\n",
      "[CV] END ..............C=0.001, penalty=l2, solver=liblinear; total time=   0.0s\n",
      "[CV] END ..............C=0.001, penalty=l2, solver=newton-cg; total time=   0.4s\n",
      "[CV] END ..............C=0.001, penalty=l2, solver=newton-cg; total time=   0.5s\n",
      "[CV] END ..............C=0.001, penalty=l2, solver=newton-cg; total time=   0.5s\n",
      "[CV] END ..................C=0.001, penalty=l2, solver=lbfgs; total time=   0.6s\n",
      "[CV] END ..................C=0.001, penalty=l2, solver=lbfgs; total time=   0.2s\n",
      "[CV] END ..................C=0.001, penalty=l2, solver=lbfgs; total time=   0.2s\n",
      "[CV] END ...............C=0.01, penalty=l1, solver=liblinear; total time=   0.0s\n",
      "[CV] END ...............C=0.01, penalty=l1, solver=liblinear; total time=   0.0s\n",
      "[CV] END ...............C=0.01, penalty=l1, solver=liblinear; total time=   0.0s\n",
      "[CV] END ...............C=0.01, penalty=l1, solver=newton-cg; total time=   0.0s\n",
      "[CV] END ...............C=0.01, penalty=l1, solver=newton-cg; total time=   0.0s\n",
      "[CV] END ...............C=0.01, penalty=l1, solver=newton-cg; total time=   0.0s\n",
      "[CV] END ...................C=0.01, penalty=l1, solver=lbfgs; total time=   0.0s\n",
      "[CV] END ...................C=0.01, penalty=l1, solver=lbfgs; total time=   0.0s\n",
      "[CV] END ...................C=0.01, penalty=l1, solver=lbfgs; total time=   0.0s\n",
      "[CV] END ...............C=0.01, penalty=l2, solver=liblinear; total time=   0.0s\n",
      "[CV] END ...............C=0.01, penalty=l2, solver=liblinear; total time=   0.0s\n",
      "[CV] END ...............C=0.01, penalty=l2, solver=liblinear; total time=   0.0s\n",
      "[CV] END ...............C=0.01, penalty=l2, solver=newton-cg; total time=   0.3s\n",
      "[CV] END ...............C=0.01, penalty=l2, solver=newton-cg; total time=   0.4s\n",
      "[CV] END ...............C=0.01, penalty=l2, solver=newton-cg; total time=   0.4s\n",
      "[CV] END ...................C=0.01, penalty=l2, solver=lbfgs; total time=   0.2s\n",
      "[CV] END ...................C=0.01, penalty=l2, solver=lbfgs; total time=   0.3s\n",
      "[CV] END ...................C=0.01, penalty=l2, solver=lbfgs; total time=   0.4s\n",
      "[CV] END ................C=0.1, penalty=l1, solver=liblinear; total time=   0.1s\n",
      "[CV] END ................C=0.1, penalty=l1, solver=liblinear; total time=   0.1s\n",
      "[CV] END ................C=0.1, penalty=l1, solver=liblinear; total time=   0.2s\n",
      "[CV] END ................C=0.1, penalty=l1, solver=newton-cg; total time=   0.0s\n",
      "[CV] END ................C=0.1, penalty=l1, solver=newton-cg; total time=   0.0s\n",
      "[CV] END ................C=0.1, penalty=l1, solver=newton-cg; total time=   0.0s\n",
      "[CV] END ....................C=0.1, penalty=l1, solver=lbfgs; total time=   0.0s\n",
      "[CV] END ....................C=0.1, penalty=l1, solver=lbfgs; total time=   0.0s\n",
      "[CV] END ....................C=0.1, penalty=l1, solver=lbfgs; total time=   0.0s\n",
      "[CV] END ................C=0.1, penalty=l2, solver=liblinear; total time=   0.2s\n",
      "[CV] END ................C=0.1, penalty=l2, solver=liblinear; total time=   0.2s\n",
      "[CV] END ................C=0.1, penalty=l2, solver=liblinear; total time=   0.2s\n",
      "[CV] END ................C=0.1, penalty=l2, solver=newton-cg; total time=   0.6s\n",
      "[CV] END ................C=0.1, penalty=l2, solver=newton-cg; total time=   0.7s\n",
      "[CV] END ................C=0.1, penalty=l2, solver=newton-cg; total time=   0.8s\n",
      "[CV] END ....................C=0.1, penalty=l2, solver=lbfgs; total time=   0.5s\n",
      "[CV] END ....................C=0.1, penalty=l2, solver=lbfgs; total time=   0.6s\n",
      "[CV] END ....................C=0.1, penalty=l2, solver=lbfgs; total time=   0.5s\n",
      "[CV] END ..................C=1, penalty=l1, solver=liblinear; total time=   0.2s\n",
      "[CV] END ..................C=1, penalty=l1, solver=liblinear; total time=   0.1s\n",
      "[CV] END ..................C=1, penalty=l1, solver=liblinear; total time=   0.1s\n",
      "[CV] END ..................C=1, penalty=l1, solver=newton-cg; total time=   0.0s\n",
      "[CV] END ..................C=1, penalty=l1, solver=newton-cg; total time=   0.0s\n",
      "[CV] END ..................C=1, penalty=l1, solver=newton-cg; total time=   0.0s\n",
      "[CV] END ......................C=1, penalty=l1, solver=lbfgs; total time=   0.0s\n",
      "[CV] END ......................C=1, penalty=l1, solver=lbfgs; total time=   0.0s\n",
      "[CV] END ......................C=1, penalty=l1, solver=lbfgs; total time=   0.0s\n",
      "[CV] END ..................C=1, penalty=l2, solver=liblinear; total time=   0.1s\n",
      "[CV] END ..................C=1, penalty=l2, solver=liblinear; total time=   0.1s\n",
      "[CV] END ..................C=1, penalty=l2, solver=liblinear; total time=   0.1s\n",
      "[CV] END ..................C=1, penalty=l2, solver=newton-cg; total time=   0.5s\n",
      "[CV] END ..................C=1, penalty=l2, solver=newton-cg; total time=   0.5s\n",
      "[CV] END ..................C=1, penalty=l2, solver=newton-cg; total time=   0.5s\n",
      "[CV] END ......................C=1, penalty=l2, solver=lbfgs; total time=   1.1s\n",
      "[CV] END ......................C=1, penalty=l2, solver=lbfgs; total time=   0.6s\n",
      "[CV] END ......................C=1, penalty=l2, solver=lbfgs; total time=   0.9s\n",
      "[CV] END .................C=10, penalty=l1, solver=liblinear; total time=   0.4s\n",
      "[CV] END .................C=10, penalty=l1, solver=liblinear; total time=   0.3s\n",
      "[CV] END .................C=10, penalty=l1, solver=liblinear; total time=   0.6s\n",
      "[CV] END .................C=10, penalty=l1, solver=newton-cg; total time=   0.0s\n",
      "[CV] END .................C=10, penalty=l1, solver=newton-cg; total time=   0.0s\n",
      "[CV] END .................C=10, penalty=l1, solver=newton-cg; total time=   0.0s\n",
      "[CV] END .....................C=10, penalty=l1, solver=lbfgs; total time=   0.0s\n",
      "[CV] END .....................C=10, penalty=l1, solver=lbfgs; total time=   0.0s\n",
      "[CV] END .....................C=10, penalty=l1, solver=lbfgs; total time=   0.0s\n",
      "[CV] END .................C=10, penalty=l2, solver=liblinear; total time=   0.2s\n",
      "[CV] END .................C=10, penalty=l2, solver=liblinear; total time=   0.2s\n",
      "[CV] END .................C=10, penalty=l2, solver=liblinear; total time=   0.2s\n",
      "[CV] END .................C=10, penalty=l2, solver=newton-cg; total time=   0.8s\n",
      "[CV] END .................C=10, penalty=l2, solver=newton-cg; total time=   1.2s\n",
      "[CV] END .................C=10, penalty=l2, solver=newton-cg; total time=   0.9s\n",
      "[CV] END .....................C=10, penalty=l2, solver=lbfgs; total time=   1.9s\n",
      "[CV] END .....................C=10, penalty=l2, solver=lbfgs; total time=   1.4s\n",
      "[CV] END .....................C=10, penalty=l2, solver=lbfgs; total time=   1.2s\n",
      "[CV] END ................C=100, penalty=l1, solver=liblinear; total time=   0.3s\n",
      "[CV] END ................C=100, penalty=l1, solver=liblinear; total time=   0.3s\n",
      "[CV] END ................C=100, penalty=l1, solver=liblinear; total time=   0.3s\n",
      "[CV] END ................C=100, penalty=l1, solver=newton-cg; total time=   0.0s\n",
      "[CV] END ................C=100, penalty=l1, solver=newton-cg; total time=   0.0s\n",
      "[CV] END ................C=100, penalty=l1, solver=newton-cg; total time=   0.0s\n",
      "[CV] END ....................C=100, penalty=l1, solver=lbfgs; total time=   0.0s\n",
      "[CV] END ....................C=100, penalty=l1, solver=lbfgs; total time=   0.0s\n",
      "[CV] END ....................C=100, penalty=l1, solver=lbfgs; total time=   0.0s\n",
      "[CV] END ................C=100, penalty=l2, solver=liblinear; total time=   0.3s\n",
      "[CV] END ................C=100, penalty=l2, solver=liblinear; total time=   0.2s\n",
      "[CV] END ................C=100, penalty=l2, solver=liblinear; total time=   0.3s\n",
      "[CV] END ................C=100, penalty=l2, solver=newton-cg; total time=   0.8s\n",
      "[CV] END ................C=100, penalty=l2, solver=newton-cg; total time=   0.8s\n",
      "[CV] END ................C=100, penalty=l2, solver=newton-cg; total time=   0.7s\n",
      "[CV] END ....................C=100, penalty=l2, solver=lbfgs; total time=   1.1s\n",
      "[CV] END ....................C=100, penalty=l2, solver=lbfgs; total time=   1.1s\n",
      "[CV] END ....................C=100, penalty=l2, solver=lbfgs; total time=   1.0s\n",
      "[CV] END ...............C=1000, penalty=l1, solver=liblinear; total time=   0.3s\n",
      "[CV] END ...............C=1000, penalty=l1, solver=liblinear; total time=   0.2s\n",
      "[CV] END ...............C=1000, penalty=l1, solver=liblinear; total time=   0.2s\n",
      "[CV] END ...............C=1000, penalty=l1, solver=newton-cg; total time=   0.0s\n",
      "[CV] END ...............C=1000, penalty=l1, solver=newton-cg; total time=   0.0s\n",
      "[CV] END ...............C=1000, penalty=l1, solver=newton-cg; total time=   0.0s\n",
      "[CV] END ...................C=1000, penalty=l1, solver=lbfgs; total time=   0.0s\n",
      "[CV] END ...................C=1000, penalty=l1, solver=lbfgs; total time=   0.0s\n",
      "[CV] END ...................C=1000, penalty=l1, solver=lbfgs; total time=   0.0s\n",
      "[CV] END ...............C=1000, penalty=l2, solver=liblinear; total time=   0.3s\n",
      "[CV] END ...............C=1000, penalty=l2, solver=liblinear; total time=   0.3s\n",
      "[CV] END ...............C=1000, penalty=l2, solver=liblinear; total time=   0.3s\n",
      "[CV] END ...............C=1000, penalty=l2, solver=newton-cg; total time=   0.8s\n",
      "[CV] END ...............C=1000, penalty=l2, solver=newton-cg; total time=   0.8s\n",
      "[CV] END ...............C=1000, penalty=l2, solver=newton-cg; total time=   0.8s\n",
      "[CV] END ...................C=1000, penalty=l2, solver=lbfgs; total time=   1.0s\n",
      "[CV] END ...................C=1000, penalty=l2, solver=lbfgs; total time=   1.2s\n",
      "[CV] END ...................C=1000, penalty=l2, solver=lbfgs; total time=   1.1s\n"
     ]
    },
    {
     "data": {
      "text/html": [
       "<style>#sk-container-id-1 {color: black;background-color: white;}#sk-container-id-1 pre{padding: 0;}#sk-container-id-1 div.sk-toggleable {background-color: white;}#sk-container-id-1 label.sk-toggleable__label {cursor: pointer;display: block;width: 100%;margin-bottom: 0;padding: 0.3em;box-sizing: border-box;text-align: center;}#sk-container-id-1 label.sk-toggleable__label-arrow:before {content: \"▸\";float: left;margin-right: 0.25em;color: #696969;}#sk-container-id-1 label.sk-toggleable__label-arrow:hover:before {color: black;}#sk-container-id-1 div.sk-estimator:hover label.sk-toggleable__label-arrow:before {color: black;}#sk-container-id-1 div.sk-toggleable__content {max-height: 0;max-width: 0;overflow: hidden;text-align: left;background-color: #f0f8ff;}#sk-container-id-1 div.sk-toggleable__content pre {margin: 0.2em;color: black;border-radius: 0.25em;background-color: #f0f8ff;}#sk-container-id-1 input.sk-toggleable__control:checked~div.sk-toggleable__content {max-height: 200px;max-width: 100%;overflow: auto;}#sk-container-id-1 input.sk-toggleable__control:checked~label.sk-toggleable__label-arrow:before {content: \"▾\";}#sk-container-id-1 div.sk-estimator input.sk-toggleable__control:checked~label.sk-toggleable__label {background-color: #d4ebff;}#sk-container-id-1 div.sk-label input.sk-toggleable__control:checked~label.sk-toggleable__label {background-color: #d4ebff;}#sk-container-id-1 input.sk-hidden--visually {border: 0;clip: rect(1px 1px 1px 1px);clip: rect(1px, 1px, 1px, 1px);height: 1px;margin: -1px;overflow: hidden;padding: 0;position: absolute;width: 1px;}#sk-container-id-1 div.sk-estimator {font-family: monospace;background-color: #f0f8ff;border: 1px dotted black;border-radius: 0.25em;box-sizing: border-box;margin-bottom: 0.5em;}#sk-container-id-1 div.sk-estimator:hover {background-color: #d4ebff;}#sk-container-id-1 div.sk-parallel-item::after {content: \"\";width: 100%;border-bottom: 1px solid gray;flex-grow: 1;}#sk-container-id-1 div.sk-label:hover label.sk-toggleable__label {background-color: #d4ebff;}#sk-container-id-1 div.sk-serial::before {content: \"\";position: absolute;border-left: 1px solid gray;box-sizing: border-box;top: 0;bottom: 0;left: 50%;z-index: 0;}#sk-container-id-1 div.sk-serial {display: flex;flex-direction: column;align-items: center;background-color: white;padding-right: 0.2em;padding-left: 0.2em;position: relative;}#sk-container-id-1 div.sk-item {position: relative;z-index: 1;}#sk-container-id-1 div.sk-parallel {display: flex;align-items: stretch;justify-content: center;background-color: white;position: relative;}#sk-container-id-1 div.sk-item::before, #sk-container-id-1 div.sk-parallel-item::before {content: \"\";position: absolute;border-left: 1px solid gray;box-sizing: border-box;top: 0;bottom: 0;left: 50%;z-index: -1;}#sk-container-id-1 div.sk-parallel-item {display: flex;flex-direction: column;z-index: 1;position: relative;background-color: white;}#sk-container-id-1 div.sk-parallel-item:first-child::after {align-self: flex-end;width: 50%;}#sk-container-id-1 div.sk-parallel-item:last-child::after {align-self: flex-start;width: 50%;}#sk-container-id-1 div.sk-parallel-item:only-child::after {width: 0;}#sk-container-id-1 div.sk-dashed-wrapped {border: 1px dashed gray;margin: 0 0.4em 0.5em 0.4em;box-sizing: border-box;padding-bottom: 0.4em;background-color: white;}#sk-container-id-1 div.sk-label label {font-family: monospace;font-weight: bold;display: inline-block;line-height: 1.2em;}#sk-container-id-1 div.sk-label-container {text-align: center;}#sk-container-id-1 div.sk-container {/* jupyter's `normalize.less` sets `[hidden] { display: none; }` but bootstrap.min.css set `[hidden] { display: none !important; }` so we also need the `!important` here to be able to override the default hidden behavior on the sphinx rendered scikit-learn.org. See: https://github.com/scikit-learn/scikit-learn/issues/21755 */display: inline-block !important;position: relative;}#sk-container-id-1 div.sk-text-repr-fallback {display: none;}</style><div id=\"sk-container-id-1\" class=\"sk-top-container\"><div class=\"sk-text-repr-fallback\"><pre>GridSearchCV(cv=3, estimator=LogisticRegression(), n_jobs=1,\n",
       "             param_grid={&#x27;C&#x27;: [0.001, 0.01, 0.1, 1, 10, 100, 1000],\n",
       "                         &#x27;penalty&#x27;: [&#x27;l1&#x27;, &#x27;l2&#x27;],\n",
       "                         &#x27;solver&#x27;: [&#x27;liblinear&#x27;, &#x27;newton-cg&#x27;, &#x27;lbfgs&#x27;]},\n",
       "             verbose=2)</pre><b>In a Jupyter environment, please rerun this cell to show the HTML representation or trust the notebook. <br />On GitHub, the HTML representation is unable to render, please try loading this page with nbviewer.org.</b></div><div class=\"sk-container\" hidden><div class=\"sk-item sk-dashed-wrapped\"><div class=\"sk-label-container\"><div class=\"sk-label sk-toggleable\"><input class=\"sk-toggleable__control sk-hidden--visually\" id=\"sk-estimator-id-1\" type=\"checkbox\" ><label for=\"sk-estimator-id-1\" class=\"sk-toggleable__label sk-toggleable__label-arrow\">GridSearchCV</label><div class=\"sk-toggleable__content\"><pre>GridSearchCV(cv=3, estimator=LogisticRegression(), n_jobs=1,\n",
       "             param_grid={&#x27;C&#x27;: [0.001, 0.01, 0.1, 1, 10, 100, 1000],\n",
       "                         &#x27;penalty&#x27;: [&#x27;l1&#x27;, &#x27;l2&#x27;],\n",
       "                         &#x27;solver&#x27;: [&#x27;liblinear&#x27;, &#x27;newton-cg&#x27;, &#x27;lbfgs&#x27;]},\n",
       "             verbose=2)</pre></div></div></div><div class=\"sk-parallel\"><div class=\"sk-parallel-item\"><div class=\"sk-item\"><div class=\"sk-label-container\"><div class=\"sk-label sk-toggleable\"><input class=\"sk-toggleable__control sk-hidden--visually\" id=\"sk-estimator-id-2\" type=\"checkbox\" ><label for=\"sk-estimator-id-2\" class=\"sk-toggleable__label sk-toggleable__label-arrow\">estimator: LogisticRegression</label><div class=\"sk-toggleable__content\"><pre>LogisticRegression()</pre></div></div></div><div class=\"sk-serial\"><div class=\"sk-item\"><div class=\"sk-estimator sk-toggleable\"><input class=\"sk-toggleable__control sk-hidden--visually\" id=\"sk-estimator-id-3\" type=\"checkbox\" ><label for=\"sk-estimator-id-3\" class=\"sk-toggleable__label sk-toggleable__label-arrow\">LogisticRegression</label><div class=\"sk-toggleable__content\"><pre>LogisticRegression()</pre></div></div></div></div></div></div></div></div></div></div>"
      ],
      "text/plain": [
       "GridSearchCV(cv=3, estimator=LogisticRegression(), n_jobs=1,\n",
       "             param_grid={'C': [0.001, 0.01, 0.1, 1, 10, 100, 1000],\n",
       "                         'penalty': ['l1', 'l2'],\n",
       "                         'solver': ['liblinear', 'newton-cg', 'lbfgs']},\n",
       "             verbose=2)"
      ]
     },
     "execution_count": 16,
     "metadata": {},
     "output_type": "execute_result"
    }
   ],
   "source": [
    "grid_search = GridSearchCV(log,param_grid,cv= 3,n_jobs= 1, verbose= 2)\n",
    "\n",
    "grid_search.fit(X_train,y_train)"
   ]
  },
  {
   "cell_type": "code",
   "execution_count": 17,
   "metadata": {},
   "outputs": [
    {
     "name": "stdout",
     "output_type": "stream",
     "text": [
      "this is the best parameters.:{'C': 10, 'penalty': 'l2', 'solver': 'lbfgs'}\n"
     ]
    }
   ],
   "source": [
    "best_param = grid_search.best_params_\n",
    "print(f'this is the best parameters.:{best_param}')"
   ]
  },
  {
   "cell_type": "code",
   "execution_count": 18,
   "metadata": {},
   "outputs": [
    {
     "data": {
      "text/html": [
       "<style>#sk-container-id-2 {color: black;background-color: white;}#sk-container-id-2 pre{padding: 0;}#sk-container-id-2 div.sk-toggleable {background-color: white;}#sk-container-id-2 label.sk-toggleable__label {cursor: pointer;display: block;width: 100%;margin-bottom: 0;padding: 0.3em;box-sizing: border-box;text-align: center;}#sk-container-id-2 label.sk-toggleable__label-arrow:before {content: \"▸\";float: left;margin-right: 0.25em;color: #696969;}#sk-container-id-2 label.sk-toggleable__label-arrow:hover:before {color: black;}#sk-container-id-2 div.sk-estimator:hover label.sk-toggleable__label-arrow:before {color: black;}#sk-container-id-2 div.sk-toggleable__content {max-height: 0;max-width: 0;overflow: hidden;text-align: left;background-color: #f0f8ff;}#sk-container-id-2 div.sk-toggleable__content pre {margin: 0.2em;color: black;border-radius: 0.25em;background-color: #f0f8ff;}#sk-container-id-2 input.sk-toggleable__control:checked~div.sk-toggleable__content {max-height: 200px;max-width: 100%;overflow: auto;}#sk-container-id-2 input.sk-toggleable__control:checked~label.sk-toggleable__label-arrow:before {content: \"▾\";}#sk-container-id-2 div.sk-estimator input.sk-toggleable__control:checked~label.sk-toggleable__label {background-color: #d4ebff;}#sk-container-id-2 div.sk-label input.sk-toggleable__control:checked~label.sk-toggleable__label {background-color: #d4ebff;}#sk-container-id-2 input.sk-hidden--visually {border: 0;clip: rect(1px 1px 1px 1px);clip: rect(1px, 1px, 1px, 1px);height: 1px;margin: -1px;overflow: hidden;padding: 0;position: absolute;width: 1px;}#sk-container-id-2 div.sk-estimator {font-family: monospace;background-color: #f0f8ff;border: 1px dotted black;border-radius: 0.25em;box-sizing: border-box;margin-bottom: 0.5em;}#sk-container-id-2 div.sk-estimator:hover {background-color: #d4ebff;}#sk-container-id-2 div.sk-parallel-item::after {content: \"\";width: 100%;border-bottom: 1px solid gray;flex-grow: 1;}#sk-container-id-2 div.sk-label:hover label.sk-toggleable__label {background-color: #d4ebff;}#sk-container-id-2 div.sk-serial::before {content: \"\";position: absolute;border-left: 1px solid gray;box-sizing: border-box;top: 0;bottom: 0;left: 50%;z-index: 0;}#sk-container-id-2 div.sk-serial {display: flex;flex-direction: column;align-items: center;background-color: white;padding-right: 0.2em;padding-left: 0.2em;position: relative;}#sk-container-id-2 div.sk-item {position: relative;z-index: 1;}#sk-container-id-2 div.sk-parallel {display: flex;align-items: stretch;justify-content: center;background-color: white;position: relative;}#sk-container-id-2 div.sk-item::before, #sk-container-id-2 div.sk-parallel-item::before {content: \"\";position: absolute;border-left: 1px solid gray;box-sizing: border-box;top: 0;bottom: 0;left: 50%;z-index: -1;}#sk-container-id-2 div.sk-parallel-item {display: flex;flex-direction: column;z-index: 1;position: relative;background-color: white;}#sk-container-id-2 div.sk-parallel-item:first-child::after {align-self: flex-end;width: 50%;}#sk-container-id-2 div.sk-parallel-item:last-child::after {align-self: flex-start;width: 50%;}#sk-container-id-2 div.sk-parallel-item:only-child::after {width: 0;}#sk-container-id-2 div.sk-dashed-wrapped {border: 1px dashed gray;margin: 0 0.4em 0.5em 0.4em;box-sizing: border-box;padding-bottom: 0.4em;background-color: white;}#sk-container-id-2 div.sk-label label {font-family: monospace;font-weight: bold;display: inline-block;line-height: 1.2em;}#sk-container-id-2 div.sk-label-container {text-align: center;}#sk-container-id-2 div.sk-container {/* jupyter's `normalize.less` sets `[hidden] { display: none; }` but bootstrap.min.css set `[hidden] { display: none !important; }` so we also need the `!important` here to be able to override the default hidden behavior on the sphinx rendered scikit-learn.org. See: https://github.com/scikit-learn/scikit-learn/issues/21755 */display: inline-block !important;position: relative;}#sk-container-id-2 div.sk-text-repr-fallback {display: none;}</style><div id=\"sk-container-id-2\" class=\"sk-top-container\"><div class=\"sk-text-repr-fallback\"><pre>LogisticRegression(C=10)</pre><b>In a Jupyter environment, please rerun this cell to show the HTML representation or trust the notebook. <br />On GitHub, the HTML representation is unable to render, please try loading this page with nbviewer.org.</b></div><div class=\"sk-container\" hidden><div class=\"sk-item\"><div class=\"sk-estimator sk-toggleable\"><input class=\"sk-toggleable__control sk-hidden--visually\" id=\"sk-estimator-id-4\" type=\"checkbox\" checked><label for=\"sk-estimator-id-4\" class=\"sk-toggleable__label sk-toggleable__label-arrow\">LogisticRegression</label><div class=\"sk-toggleable__content\"><pre>LogisticRegression(C=10)</pre></div></div></div></div></div>"
      ],
      "text/plain": [
       "LogisticRegression(C=10)"
      ]
     },
     "execution_count": 18,
     "metadata": {},
     "output_type": "execute_result"
    }
   ],
   "source": [
    "best_model1 = LogisticRegression(**best_param)\n",
    "best_model1.fit(X_train,y_train)"
   ]
  },
  {
   "cell_type": "code",
   "execution_count": 19,
   "metadata": {},
   "outputs": [
    {
     "name": "stdout",
     "output_type": "stream",
     "text": [
      "Best Evalution On logistic Regression \n",
      "Accuracy:0.8898828887443071\n",
      "Classification Report:\n",
      "               precision    recall  f1-score   support\n",
      "\n",
      "           0       0.82      0.74      0.78      1626\n",
      "           1       0.91      0.94      0.93      4522\n",
      "\n",
      "    accuracy                           0.89      6148\n",
      "   macro avg       0.87      0.84      0.85      6148\n",
      "weighted avg       0.89      0.89      0.89      6148\n",
      "\n",
      "Confusion Matrix:\n",
      " [[1205  421]\n",
      " [ 256 4266]]\n"
     ]
    }
   ],
   "source": [
    "predictions = best_model1.predict(X_test)\n",
    "print('Best Evalution On logistic Regression ')\n",
    "print(f'Accuracy:{accuracy_score(y_test,predictions)}')\n",
    "print(f'Classification Report:\\n {classification_report(y_test,predictions)}')\n",
    "print(f'Confusion Matrix:\\n {confusion_matrix(y_test,predictions)}')\n"
   ]
  },
  {
   "cell_type": "code",
   "execution_count": 21,
   "metadata": {},
   "outputs": [
    {
     "name": "stdout",
     "output_type": "stream",
     "text": [
      "2.0.3\n"
     ]
    }
   ],
   "source": [
    "XG = XGBClassifier()\n",
    "import xgboost\n",
    "print(xgboost.__version__)\n",
    "\n"
   ]
  },
  {
   "cell_type": "code",
   "execution_count": 23,
   "metadata": {},
   "outputs": [],
   "source": [
    "\n",
    "param_grid1 = {\n",
    "    'learning_rate': [0.01, 0.1, 0.2],\n",
    "    'n_estimators': [100, 300],\n",
    "    'colsample_bytree': [0.4, 0.6],\n",
    "    'colsample_bylevel': [0.4],\n",
    "    'colsample_bynode': [0.4],\n",
    "    'gamma': [0.0, 0.2],\n",
    "}\n"
   ]
  },
  {
   "cell_type": "code",
   "execution_count": 24,
   "metadata": {},
   "outputs": [
    {
     "name": "stdout",
     "output_type": "stream",
     "text": [
      "Fitting 3 folds for each of 24 candidates, totalling 72 fits\n",
      "[CV] END colsample_bylevel=0.4, colsample_bynode=0.4, colsample_bytree=0.4, gamma=0.0, learning_rate=0.01, n_estimators=100; total time=  24.7s\n",
      "[CV] END colsample_bylevel=0.4, colsample_bynode=0.4, colsample_bytree=0.4, gamma=0.0, learning_rate=0.01, n_estimators=100; total time=  28.4s\n",
      "[CV] END colsample_bylevel=0.4, colsample_bynode=0.4, colsample_bytree=0.4, gamma=0.0, learning_rate=0.01, n_estimators=100; total time=  46.5s\n",
      "[CV] END colsample_bylevel=0.4, colsample_bynode=0.4, colsample_bytree=0.4, gamma=0.0, learning_rate=0.01, n_estimators=300; total time= 2.9min\n",
      "[CV] END colsample_bylevel=0.4, colsample_bynode=0.4, colsample_bytree=0.4, gamma=0.0, learning_rate=0.01, n_estimators=300; total time= 2.2min\n",
      "[CV] END colsample_bylevel=0.4, colsample_bynode=0.4, colsample_bytree=0.4, gamma=0.0, learning_rate=0.01, n_estimators=300; total time= 1.8min\n",
      "[CV] END colsample_bylevel=0.4, colsample_bynode=0.4, colsample_bytree=0.4, gamma=0.0, learning_rate=0.1, n_estimators=100; total time=  28.2s\n",
      "[CV] END colsample_bylevel=0.4, colsample_bynode=0.4, colsample_bytree=0.4, gamma=0.0, learning_rate=0.1, n_estimators=100; total time=  19.7s\n",
      "[CV] END colsample_bylevel=0.4, colsample_bynode=0.4, colsample_bytree=0.4, gamma=0.0, learning_rate=0.1, n_estimators=100; total time=  20.4s\n",
      "[CV] END colsample_bylevel=0.4, colsample_bynode=0.4, colsample_bytree=0.4, gamma=0.0, learning_rate=0.1, n_estimators=300; total time=  48.8s\n",
      "[CV] END colsample_bylevel=0.4, colsample_bynode=0.4, colsample_bytree=0.4, gamma=0.0, learning_rate=0.1, n_estimators=300; total time=  56.3s\n",
      "[CV] END colsample_bylevel=0.4, colsample_bynode=0.4, colsample_bytree=0.4, gamma=0.0, learning_rate=0.1, n_estimators=300; total time=  50.7s\n",
      "[CV] END colsample_bylevel=0.4, colsample_bynode=0.4, colsample_bytree=0.4, gamma=0.0, learning_rate=0.2, n_estimators=100; total time=  17.5s\n",
      "[CV] END colsample_bylevel=0.4, colsample_bynode=0.4, colsample_bytree=0.4, gamma=0.0, learning_rate=0.2, n_estimators=100; total time=  19.3s\n",
      "[CV] END colsample_bylevel=0.4, colsample_bynode=0.4, colsample_bytree=0.4, gamma=0.0, learning_rate=0.2, n_estimators=100; total time=  19.2s\n",
      "[CV] END colsample_bylevel=0.4, colsample_bynode=0.4, colsample_bytree=0.4, gamma=0.0, learning_rate=0.2, n_estimators=300; total time=  43.2s\n",
      "[CV] END colsample_bylevel=0.4, colsample_bynode=0.4, colsample_bytree=0.4, gamma=0.0, learning_rate=0.2, n_estimators=300; total time=  43.2s\n",
      "[CV] END colsample_bylevel=0.4, colsample_bynode=0.4, colsample_bytree=0.4, gamma=0.0, learning_rate=0.2, n_estimators=300; total time=  43.8s\n",
      "[CV] END colsample_bylevel=0.4, colsample_bynode=0.4, colsample_bytree=0.4, gamma=0.2, learning_rate=0.01, n_estimators=100; total time=  20.8s\n",
      "[CV] END colsample_bylevel=0.4, colsample_bynode=0.4, colsample_bytree=0.4, gamma=0.2, learning_rate=0.01, n_estimators=100; total time=  22.4s\n",
      "[CV] END colsample_bylevel=0.4, colsample_bynode=0.4, colsample_bytree=0.4, gamma=0.2, learning_rate=0.01, n_estimators=100; total time=  20.8s\n",
      "[CV] END colsample_bylevel=0.4, colsample_bynode=0.4, colsample_bytree=0.4, gamma=0.2, learning_rate=0.01, n_estimators=300; total time= 1.3min\n",
      "[CV] END colsample_bylevel=0.4, colsample_bynode=0.4, colsample_bytree=0.4, gamma=0.2, learning_rate=0.01, n_estimators=300; total time= 1.5min\n",
      "[CV] END colsample_bylevel=0.4, colsample_bynode=0.4, colsample_bytree=0.4, gamma=0.2, learning_rate=0.01, n_estimators=300; total time= 1.1min\n",
      "[CV] END colsample_bylevel=0.4, colsample_bynode=0.4, colsample_bytree=0.4, gamma=0.2, learning_rate=0.1, n_estimators=100; total time=  23.2s\n",
      "[CV] END colsample_bylevel=0.4, colsample_bynode=0.4, colsample_bytree=0.4, gamma=0.2, learning_rate=0.1, n_estimators=100; total time=  21.8s\n",
      "[CV] END colsample_bylevel=0.4, colsample_bynode=0.4, colsample_bytree=0.4, gamma=0.2, learning_rate=0.1, n_estimators=100; total time=  27.2s\n",
      "[CV] END colsample_bylevel=0.4, colsample_bynode=0.4, colsample_bytree=0.4, gamma=0.2, learning_rate=0.1, n_estimators=300; total time=  47.2s\n",
      "[CV] END colsample_bylevel=0.4, colsample_bynode=0.4, colsample_bytree=0.4, gamma=0.2, learning_rate=0.1, n_estimators=300; total time=  41.0s\n",
      "[CV] END colsample_bylevel=0.4, colsample_bynode=0.4, colsample_bytree=0.4, gamma=0.2, learning_rate=0.1, n_estimators=300; total time=  43.3s\n",
      "[CV] END colsample_bylevel=0.4, colsample_bynode=0.4, colsample_bytree=0.4, gamma=0.2, learning_rate=0.2, n_estimators=100; total time=  16.0s\n",
      "[CV] END colsample_bylevel=0.4, colsample_bynode=0.4, colsample_bytree=0.4, gamma=0.2, learning_rate=0.2, n_estimators=100; total time=  16.1s\n",
      "[CV] END colsample_bylevel=0.4, colsample_bynode=0.4, colsample_bytree=0.4, gamma=0.2, learning_rate=0.2, n_estimators=100; total time=  17.8s\n",
      "[CV] END colsample_bylevel=0.4, colsample_bynode=0.4, colsample_bytree=0.4, gamma=0.2, learning_rate=0.2, n_estimators=300; total time=  35.8s\n",
      "[CV] END colsample_bylevel=0.4, colsample_bynode=0.4, colsample_bytree=0.4, gamma=0.2, learning_rate=0.2, n_estimators=300; total time=  37.3s\n",
      "[CV] END colsample_bylevel=0.4, colsample_bynode=0.4, colsample_bytree=0.4, gamma=0.2, learning_rate=0.2, n_estimators=300; total time=  37.4s\n",
      "[CV] END colsample_bylevel=0.4, colsample_bynode=0.4, colsample_bytree=0.6, gamma=0.0, learning_rate=0.01, n_estimators=100; total time=  24.0s\n",
      "[CV] END colsample_bylevel=0.4, colsample_bynode=0.4, colsample_bytree=0.6, gamma=0.0, learning_rate=0.01, n_estimators=100; total time=  25.3s\n",
      "[CV] END colsample_bylevel=0.4, colsample_bynode=0.4, colsample_bytree=0.6, gamma=0.0, learning_rate=0.01, n_estimators=100; total time=  24.8s\n",
      "[CV] END colsample_bylevel=0.4, colsample_bynode=0.4, colsample_bytree=0.6, gamma=0.0, learning_rate=0.01, n_estimators=300; total time= 1.2min\n",
      "[CV] END colsample_bylevel=0.4, colsample_bynode=0.4, colsample_bytree=0.6, gamma=0.0, learning_rate=0.01, n_estimators=300; total time= 1.2min\n",
      "[CV] END colsample_bylevel=0.4, colsample_bynode=0.4, colsample_bytree=0.6, gamma=0.0, learning_rate=0.01, n_estimators=300; total time= 1.1min\n",
      "[CV] END colsample_bylevel=0.4, colsample_bynode=0.4, colsample_bytree=0.6, gamma=0.0, learning_rate=0.1, n_estimators=100; total time=  22.4s\n",
      "[CV] END colsample_bylevel=0.4, colsample_bynode=0.4, colsample_bytree=0.6, gamma=0.0, learning_rate=0.1, n_estimators=100; total time=  22.3s\n",
      "[CV] END colsample_bylevel=0.4, colsample_bynode=0.4, colsample_bytree=0.6, gamma=0.0, learning_rate=0.1, n_estimators=100; total time=  20.8s\n",
      "[CV] END colsample_bylevel=0.4, colsample_bynode=0.4, colsample_bytree=0.6, gamma=0.0, learning_rate=0.1, n_estimators=300; total time=  49.1s\n",
      "[CV] END colsample_bylevel=0.4, colsample_bynode=0.4, colsample_bytree=0.6, gamma=0.0, learning_rate=0.1, n_estimators=300; total time=  49.7s\n",
      "[CV] END colsample_bylevel=0.4, colsample_bynode=0.4, colsample_bytree=0.6, gamma=0.0, learning_rate=0.1, n_estimators=300; total time=  49.1s\n",
      "[CV] END colsample_bylevel=0.4, colsample_bynode=0.4, colsample_bytree=0.6, gamma=0.0, learning_rate=0.2, n_estimators=100; total time=  18.2s\n",
      "[CV] END colsample_bylevel=0.4, colsample_bynode=0.4, colsample_bytree=0.6, gamma=0.0, learning_rate=0.2, n_estimators=100; total time=  18.6s\n",
      "[CV] END colsample_bylevel=0.4, colsample_bynode=0.4, colsample_bytree=0.6, gamma=0.0, learning_rate=0.2, n_estimators=100; total time=  19.3s\n",
      "[CV] END colsample_bylevel=0.4, colsample_bynode=0.4, colsample_bytree=0.6, gamma=0.0, learning_rate=0.2, n_estimators=300; total time=  45.2s\n",
      "[CV] END colsample_bylevel=0.4, colsample_bynode=0.4, colsample_bytree=0.6, gamma=0.0, learning_rate=0.2, n_estimators=300; total time=  44.3s\n",
      "[CV] END colsample_bylevel=0.4, colsample_bynode=0.4, colsample_bytree=0.6, gamma=0.0, learning_rate=0.2, n_estimators=300; total time=  45.9s\n",
      "[CV] END colsample_bylevel=0.4, colsample_bynode=0.4, colsample_bytree=0.6, gamma=0.2, learning_rate=0.01, n_estimators=100; total time=  23.9s\n",
      "[CV] END colsample_bylevel=0.4, colsample_bynode=0.4, colsample_bytree=0.6, gamma=0.2, learning_rate=0.01, n_estimators=100; total time=  23.8s\n",
      "[CV] END colsample_bylevel=0.4, colsample_bynode=0.4, colsample_bytree=0.6, gamma=0.2, learning_rate=0.01, n_estimators=100; total time=  24.2s\n",
      "[CV] END colsample_bylevel=0.4, colsample_bynode=0.4, colsample_bytree=0.6, gamma=0.2, learning_rate=0.01, n_estimators=300; total time= 1.2min\n",
      "[CV] END colsample_bylevel=0.4, colsample_bynode=0.4, colsample_bytree=0.6, gamma=0.2, learning_rate=0.01, n_estimators=300; total time= 1.2min\n",
      "[CV] END colsample_bylevel=0.4, colsample_bynode=0.4, colsample_bytree=0.6, gamma=0.2, learning_rate=0.01, n_estimators=300; total time= 1.2min\n",
      "[CV] END colsample_bylevel=0.4, colsample_bynode=0.4, colsample_bytree=0.6, gamma=0.2, learning_rate=0.1, n_estimators=100; total time=  19.8s\n",
      "[CV] END colsample_bylevel=0.4, colsample_bynode=0.4, colsample_bytree=0.6, gamma=0.2, learning_rate=0.1, n_estimators=100; total time=  20.4s\n",
      "[CV] END colsample_bylevel=0.4, colsample_bynode=0.4, colsample_bytree=0.6, gamma=0.2, learning_rate=0.1, n_estimators=100; total time=  21.2s\n",
      "[CV] END colsample_bylevel=0.4, colsample_bynode=0.4, colsample_bytree=0.6, gamma=0.2, learning_rate=0.1, n_estimators=300; total time=  48.7s\n",
      "[CV] END colsample_bylevel=0.4, colsample_bynode=0.4, colsample_bytree=0.6, gamma=0.2, learning_rate=0.1, n_estimators=300; total time=  48.0s\n",
      "[CV] END colsample_bylevel=0.4, colsample_bynode=0.4, colsample_bytree=0.6, gamma=0.2, learning_rate=0.1, n_estimators=300; total time=  49.1s\n",
      "[CV] END colsample_bylevel=0.4, colsample_bynode=0.4, colsample_bytree=0.6, gamma=0.2, learning_rate=0.2, n_estimators=100; total time=  18.8s\n",
      "[CV] END colsample_bylevel=0.4, colsample_bynode=0.4, colsample_bytree=0.6, gamma=0.2, learning_rate=0.2, n_estimators=100; total time=  18.2s\n",
      "[CV] END colsample_bylevel=0.4, colsample_bynode=0.4, colsample_bytree=0.6, gamma=0.2, learning_rate=0.2, n_estimators=100; total time=  18.4s\n",
      "[CV] END colsample_bylevel=0.4, colsample_bynode=0.4, colsample_bytree=0.6, gamma=0.2, learning_rate=0.2, n_estimators=300; total time=  45.6s\n",
      "[CV] END colsample_bylevel=0.4, colsample_bynode=0.4, colsample_bytree=0.6, gamma=0.2, learning_rate=0.2, n_estimators=300; total time=  44.1s\n",
      "[CV] END colsample_bylevel=0.4, colsample_bynode=0.4, colsample_bytree=0.6, gamma=0.2, learning_rate=0.2, n_estimators=300; total time=  43.4s\n"
     ]
    },
    {
     "data": {
      "text/html": [
       "<style>#sk-container-id-3 {color: black;background-color: white;}#sk-container-id-3 pre{padding: 0;}#sk-container-id-3 div.sk-toggleable {background-color: white;}#sk-container-id-3 label.sk-toggleable__label {cursor: pointer;display: block;width: 100%;margin-bottom: 0;padding: 0.3em;box-sizing: border-box;text-align: center;}#sk-container-id-3 label.sk-toggleable__label-arrow:before {content: \"▸\";float: left;margin-right: 0.25em;color: #696969;}#sk-container-id-3 label.sk-toggleable__label-arrow:hover:before {color: black;}#sk-container-id-3 div.sk-estimator:hover label.sk-toggleable__label-arrow:before {color: black;}#sk-container-id-3 div.sk-toggleable__content {max-height: 0;max-width: 0;overflow: hidden;text-align: left;background-color: #f0f8ff;}#sk-container-id-3 div.sk-toggleable__content pre {margin: 0.2em;color: black;border-radius: 0.25em;background-color: #f0f8ff;}#sk-container-id-3 input.sk-toggleable__control:checked~div.sk-toggleable__content {max-height: 200px;max-width: 100%;overflow: auto;}#sk-container-id-3 input.sk-toggleable__control:checked~label.sk-toggleable__label-arrow:before {content: \"▾\";}#sk-container-id-3 div.sk-estimator input.sk-toggleable__control:checked~label.sk-toggleable__label {background-color: #d4ebff;}#sk-container-id-3 div.sk-label input.sk-toggleable__control:checked~label.sk-toggleable__label {background-color: #d4ebff;}#sk-container-id-3 input.sk-hidden--visually {border: 0;clip: rect(1px 1px 1px 1px);clip: rect(1px, 1px, 1px, 1px);height: 1px;margin: -1px;overflow: hidden;padding: 0;position: absolute;width: 1px;}#sk-container-id-3 div.sk-estimator {font-family: monospace;background-color: #f0f8ff;border: 1px dotted black;border-radius: 0.25em;box-sizing: border-box;margin-bottom: 0.5em;}#sk-container-id-3 div.sk-estimator:hover {background-color: #d4ebff;}#sk-container-id-3 div.sk-parallel-item::after {content: \"\";width: 100%;border-bottom: 1px solid gray;flex-grow: 1;}#sk-container-id-3 div.sk-label:hover label.sk-toggleable__label {background-color: #d4ebff;}#sk-container-id-3 div.sk-serial::before {content: \"\";position: absolute;border-left: 1px solid gray;box-sizing: border-box;top: 0;bottom: 0;left: 50%;z-index: 0;}#sk-container-id-3 div.sk-serial {display: flex;flex-direction: column;align-items: center;background-color: white;padding-right: 0.2em;padding-left: 0.2em;position: relative;}#sk-container-id-3 div.sk-item {position: relative;z-index: 1;}#sk-container-id-3 div.sk-parallel {display: flex;align-items: stretch;justify-content: center;background-color: white;position: relative;}#sk-container-id-3 div.sk-item::before, #sk-container-id-3 div.sk-parallel-item::before {content: \"\";position: absolute;border-left: 1px solid gray;box-sizing: border-box;top: 0;bottom: 0;left: 50%;z-index: -1;}#sk-container-id-3 div.sk-parallel-item {display: flex;flex-direction: column;z-index: 1;position: relative;background-color: white;}#sk-container-id-3 div.sk-parallel-item:first-child::after {align-self: flex-end;width: 50%;}#sk-container-id-3 div.sk-parallel-item:last-child::after {align-self: flex-start;width: 50%;}#sk-container-id-3 div.sk-parallel-item:only-child::after {width: 0;}#sk-container-id-3 div.sk-dashed-wrapped {border: 1px dashed gray;margin: 0 0.4em 0.5em 0.4em;box-sizing: border-box;padding-bottom: 0.4em;background-color: white;}#sk-container-id-3 div.sk-label label {font-family: monospace;font-weight: bold;display: inline-block;line-height: 1.2em;}#sk-container-id-3 div.sk-label-container {text-align: center;}#sk-container-id-3 div.sk-container {/* jupyter's `normalize.less` sets `[hidden] { display: none; }` but bootstrap.min.css set `[hidden] { display: none !important; }` so we also need the `!important` here to be able to override the default hidden behavior on the sphinx rendered scikit-learn.org. See: https://github.com/scikit-learn/scikit-learn/issues/21755 */display: inline-block !important;position: relative;}#sk-container-id-3 div.sk-text-repr-fallback {display: none;}</style><div id=\"sk-container-id-3\" class=\"sk-top-container\"><div class=\"sk-text-repr-fallback\"><pre>GridSearchCV(cv=3,\n",
       "             estimator=XGBClassifier(base_score=None, booster=None,\n",
       "                                     callbacks=None, colsample_bylevel=None,\n",
       "                                     colsample_bynode=None,\n",
       "                                     colsample_bytree=None, device=None,\n",
       "                                     early_stopping_rounds=None,\n",
       "                                     enable_categorical=False, eval_metric=None,\n",
       "                                     feature_types=None, gamma=None,\n",
       "                                     grow_policy=None, importance_type=None,\n",
       "                                     interaction_constraints=None,\n",
       "                                     learning_rate=None,...\n",
       "                                     max_leaves=None, min_child_weight=None,\n",
       "                                     missing=nan, monotone_constraints=None,\n",
       "                                     multi_strategy=None, n_estimators=None,\n",
       "                                     n_jobs=None, num_parallel_tree=None,\n",
       "                                     random_state=None, ...),\n",
       "             n_jobs=1,\n",
       "             param_grid={&#x27;colsample_bylevel&#x27;: [0.4], &#x27;colsample_bynode&#x27;: [0.4],\n",
       "                         &#x27;colsample_bytree&#x27;: [0.4, 0.6], &#x27;gamma&#x27;: [0.0, 0.2],\n",
       "                         &#x27;learning_rate&#x27;: [0.01, 0.1, 0.2],\n",
       "                         &#x27;n_estimators&#x27;: [100, 300]},\n",
       "             scoring=&#x27;accuracy&#x27;, verbose=2)</pre><b>In a Jupyter environment, please rerun this cell to show the HTML representation or trust the notebook. <br />On GitHub, the HTML representation is unable to render, please try loading this page with nbviewer.org.</b></div><div class=\"sk-container\" hidden><div class=\"sk-item sk-dashed-wrapped\"><div class=\"sk-label-container\"><div class=\"sk-label sk-toggleable\"><input class=\"sk-toggleable__control sk-hidden--visually\" id=\"sk-estimator-id-5\" type=\"checkbox\" ><label for=\"sk-estimator-id-5\" class=\"sk-toggleable__label sk-toggleable__label-arrow\">GridSearchCV</label><div class=\"sk-toggleable__content\"><pre>GridSearchCV(cv=3,\n",
       "             estimator=XGBClassifier(base_score=None, booster=None,\n",
       "                                     callbacks=None, colsample_bylevel=None,\n",
       "                                     colsample_bynode=None,\n",
       "                                     colsample_bytree=None, device=None,\n",
       "                                     early_stopping_rounds=None,\n",
       "                                     enable_categorical=False, eval_metric=None,\n",
       "                                     feature_types=None, gamma=None,\n",
       "                                     grow_policy=None, importance_type=None,\n",
       "                                     interaction_constraints=None,\n",
       "                                     learning_rate=None,...\n",
       "                                     max_leaves=None, min_child_weight=None,\n",
       "                                     missing=nan, monotone_constraints=None,\n",
       "                                     multi_strategy=None, n_estimators=None,\n",
       "                                     n_jobs=None, num_parallel_tree=None,\n",
       "                                     random_state=None, ...),\n",
       "             n_jobs=1,\n",
       "             param_grid={&#x27;colsample_bylevel&#x27;: [0.4], &#x27;colsample_bynode&#x27;: [0.4],\n",
       "                         &#x27;colsample_bytree&#x27;: [0.4, 0.6], &#x27;gamma&#x27;: [0.0, 0.2],\n",
       "                         &#x27;learning_rate&#x27;: [0.01, 0.1, 0.2],\n",
       "                         &#x27;n_estimators&#x27;: [100, 300]},\n",
       "             scoring=&#x27;accuracy&#x27;, verbose=2)</pre></div></div></div><div class=\"sk-parallel\"><div class=\"sk-parallel-item\"><div class=\"sk-item\"><div class=\"sk-label-container\"><div class=\"sk-label sk-toggleable\"><input class=\"sk-toggleable__control sk-hidden--visually\" id=\"sk-estimator-id-6\" type=\"checkbox\" ><label for=\"sk-estimator-id-6\" class=\"sk-toggleable__label sk-toggleable__label-arrow\">estimator: XGBClassifier</label><div class=\"sk-toggleable__content\"><pre>XGBClassifier(base_score=None, booster=None, callbacks=None,\n",
       "              colsample_bylevel=None, colsample_bynode=None,\n",
       "              colsample_bytree=None, device=None, early_stopping_rounds=None,\n",
       "              enable_categorical=False, eval_metric=None, feature_types=None,\n",
       "              gamma=None, grow_policy=None, importance_type=None,\n",
       "              interaction_constraints=None, learning_rate=None, max_bin=None,\n",
       "              max_cat_threshold=None, max_cat_to_onehot=None,\n",
       "              max_delta_step=None, max_depth=None, max_leaves=None,\n",
       "              min_child_weight=None, missing=nan, monotone_constraints=None,\n",
       "              multi_strategy=None, n_estimators=None, n_jobs=None,\n",
       "              num_parallel_tree=None, random_state=None, ...)</pre></div></div></div><div class=\"sk-serial\"><div class=\"sk-item\"><div class=\"sk-estimator sk-toggleable\"><input class=\"sk-toggleable__control sk-hidden--visually\" id=\"sk-estimator-id-7\" type=\"checkbox\" ><label for=\"sk-estimator-id-7\" class=\"sk-toggleable__label sk-toggleable__label-arrow\">XGBClassifier</label><div class=\"sk-toggleable__content\"><pre>XGBClassifier(base_score=None, booster=None, callbacks=None,\n",
       "              colsample_bylevel=None, colsample_bynode=None,\n",
       "              colsample_bytree=None, device=None, early_stopping_rounds=None,\n",
       "              enable_categorical=False, eval_metric=None, feature_types=None,\n",
       "              gamma=None, grow_policy=None, importance_type=None,\n",
       "              interaction_constraints=None, learning_rate=None, max_bin=None,\n",
       "              max_cat_threshold=None, max_cat_to_onehot=None,\n",
       "              max_delta_step=None, max_depth=None, max_leaves=None,\n",
       "              min_child_weight=None, missing=nan, monotone_constraints=None,\n",
       "              multi_strategy=None, n_estimators=None, n_jobs=None,\n",
       "              num_parallel_tree=None, random_state=None, ...)</pre></div></div></div></div></div></div></div></div></div></div>"
      ],
      "text/plain": [
       "GridSearchCV(cv=3,\n",
       "             estimator=XGBClassifier(base_score=None, booster=None,\n",
       "                                     callbacks=None, colsample_bylevel=None,\n",
       "                                     colsample_bynode=None,\n",
       "                                     colsample_bytree=None, device=None,\n",
       "                                     early_stopping_rounds=None,\n",
       "                                     enable_categorical=False, eval_metric=None,\n",
       "                                     feature_types=None, gamma=None,\n",
       "                                     grow_policy=None, importance_type=None,\n",
       "                                     interaction_constraints=None,\n",
       "                                     learning_rate=None,...\n",
       "                                     max_leaves=None, min_child_weight=None,\n",
       "                                     missing=nan, monotone_constraints=None,\n",
       "                                     multi_strategy=None, n_estimators=None,\n",
       "                                     n_jobs=None, num_parallel_tree=None,\n",
       "                                     random_state=None, ...),\n",
       "             n_jobs=1,\n",
       "             param_grid={'colsample_bylevel': [0.4], 'colsample_bynode': [0.4],\n",
       "                         'colsample_bytree': [0.4, 0.6], 'gamma': [0.0, 0.2],\n",
       "                         'learning_rate': [0.01, 0.1, 0.2],\n",
       "                         'n_estimators': [100, 300]},\n",
       "             scoring='accuracy', verbose=2)"
      ]
     },
     "execution_count": 24,
     "metadata": {},
     "output_type": "execute_result"
    }
   ],
   "source": [
    "grid_search1 = GridSearchCV(XG,param_grid1,cv =3 ,n_jobs=1,verbose= 2, scoring= 'accuracy')\n",
    "\n",
    "grid_search1.fit(X_train,y_train)"
   ]
  },
  {
   "cell_type": "code",
   "execution_count": 25,
   "metadata": {},
   "outputs": [
    {
     "name": "stdout",
     "output_type": "stream",
     "text": [
      "this is the best parameters.:{'colsample_bylevel': 0.4, 'colsample_bynode': 0.4, 'colsample_bytree': 0.4, 'gamma': 0.0, 'learning_rate': 0.2, 'n_estimators': 300}\n"
     ]
    }
   ],
   "source": [
    "best_param1 = grid_search1.best_params_\n",
    "\n",
    "print(f'this is the best parameters.:{best_param1}')"
   ]
  },
  {
   "cell_type": "code",
   "execution_count": 26,
   "metadata": {},
   "outputs": [
    {
     "data": {
      "text/html": [
       "<style>#sk-container-id-4 {color: black;background-color: white;}#sk-container-id-4 pre{padding: 0;}#sk-container-id-4 div.sk-toggleable {background-color: white;}#sk-container-id-4 label.sk-toggleable__label {cursor: pointer;display: block;width: 100%;margin-bottom: 0;padding: 0.3em;box-sizing: border-box;text-align: center;}#sk-container-id-4 label.sk-toggleable__label-arrow:before {content: \"▸\";float: left;margin-right: 0.25em;color: #696969;}#sk-container-id-4 label.sk-toggleable__label-arrow:hover:before {color: black;}#sk-container-id-4 div.sk-estimator:hover label.sk-toggleable__label-arrow:before {color: black;}#sk-container-id-4 div.sk-toggleable__content {max-height: 0;max-width: 0;overflow: hidden;text-align: left;background-color: #f0f8ff;}#sk-container-id-4 div.sk-toggleable__content pre {margin: 0.2em;color: black;border-radius: 0.25em;background-color: #f0f8ff;}#sk-container-id-4 input.sk-toggleable__control:checked~div.sk-toggleable__content {max-height: 200px;max-width: 100%;overflow: auto;}#sk-container-id-4 input.sk-toggleable__control:checked~label.sk-toggleable__label-arrow:before {content: \"▾\";}#sk-container-id-4 div.sk-estimator input.sk-toggleable__control:checked~label.sk-toggleable__label {background-color: #d4ebff;}#sk-container-id-4 div.sk-label input.sk-toggleable__control:checked~label.sk-toggleable__label {background-color: #d4ebff;}#sk-container-id-4 input.sk-hidden--visually {border: 0;clip: rect(1px 1px 1px 1px);clip: rect(1px, 1px, 1px, 1px);height: 1px;margin: -1px;overflow: hidden;padding: 0;position: absolute;width: 1px;}#sk-container-id-4 div.sk-estimator {font-family: monospace;background-color: #f0f8ff;border: 1px dotted black;border-radius: 0.25em;box-sizing: border-box;margin-bottom: 0.5em;}#sk-container-id-4 div.sk-estimator:hover {background-color: #d4ebff;}#sk-container-id-4 div.sk-parallel-item::after {content: \"\";width: 100%;border-bottom: 1px solid gray;flex-grow: 1;}#sk-container-id-4 div.sk-label:hover label.sk-toggleable__label {background-color: #d4ebff;}#sk-container-id-4 div.sk-serial::before {content: \"\";position: absolute;border-left: 1px solid gray;box-sizing: border-box;top: 0;bottom: 0;left: 50%;z-index: 0;}#sk-container-id-4 div.sk-serial {display: flex;flex-direction: column;align-items: center;background-color: white;padding-right: 0.2em;padding-left: 0.2em;position: relative;}#sk-container-id-4 div.sk-item {position: relative;z-index: 1;}#sk-container-id-4 div.sk-parallel {display: flex;align-items: stretch;justify-content: center;background-color: white;position: relative;}#sk-container-id-4 div.sk-item::before, #sk-container-id-4 div.sk-parallel-item::before {content: \"\";position: absolute;border-left: 1px solid gray;box-sizing: border-box;top: 0;bottom: 0;left: 50%;z-index: -1;}#sk-container-id-4 div.sk-parallel-item {display: flex;flex-direction: column;z-index: 1;position: relative;background-color: white;}#sk-container-id-4 div.sk-parallel-item:first-child::after {align-self: flex-end;width: 50%;}#sk-container-id-4 div.sk-parallel-item:last-child::after {align-self: flex-start;width: 50%;}#sk-container-id-4 div.sk-parallel-item:only-child::after {width: 0;}#sk-container-id-4 div.sk-dashed-wrapped {border: 1px dashed gray;margin: 0 0.4em 0.5em 0.4em;box-sizing: border-box;padding-bottom: 0.4em;background-color: white;}#sk-container-id-4 div.sk-label label {font-family: monospace;font-weight: bold;display: inline-block;line-height: 1.2em;}#sk-container-id-4 div.sk-label-container {text-align: center;}#sk-container-id-4 div.sk-container {/* jupyter's `normalize.less` sets `[hidden] { display: none; }` but bootstrap.min.css set `[hidden] { display: none !important; }` so we also need the `!important` here to be able to override the default hidden behavior on the sphinx rendered scikit-learn.org. See: https://github.com/scikit-learn/scikit-learn/issues/21755 */display: inline-block !important;position: relative;}#sk-container-id-4 div.sk-text-repr-fallback {display: none;}</style><div id=\"sk-container-id-4\" class=\"sk-top-container\"><div class=\"sk-text-repr-fallback\"><pre>XGBClassifier(base_score=None, booster=None, callbacks=None,\n",
       "              colsample_bylevel=0.4, colsample_bynode=0.4, colsample_bytree=0.4,\n",
       "              device=None, early_stopping_rounds=None, enable_categorical=False,\n",
       "              eval_metric=None, feature_types=None, gamma=0.0, grow_policy=None,\n",
       "              importance_type=None, interaction_constraints=None,\n",
       "              learning_rate=0.2, max_bin=None, max_cat_threshold=None,\n",
       "              max_cat_to_onehot=None, max_delta_step=None, max_depth=None,\n",
       "              max_leaves=None, min_child_weight=None, missing=nan,\n",
       "              monotone_constraints=None, multi_strategy=None, n_estimators=300,\n",
       "              n_jobs=None, num_parallel_tree=None, random_state=None, ...)</pre><b>In a Jupyter environment, please rerun this cell to show the HTML representation or trust the notebook. <br />On GitHub, the HTML representation is unable to render, please try loading this page with nbviewer.org.</b></div><div class=\"sk-container\" hidden><div class=\"sk-item\"><div class=\"sk-estimator sk-toggleable\"><input class=\"sk-toggleable__control sk-hidden--visually\" id=\"sk-estimator-id-8\" type=\"checkbox\" checked><label for=\"sk-estimator-id-8\" class=\"sk-toggleable__label sk-toggleable__label-arrow\">XGBClassifier</label><div class=\"sk-toggleable__content\"><pre>XGBClassifier(base_score=None, booster=None, callbacks=None,\n",
       "              colsample_bylevel=0.4, colsample_bynode=0.4, colsample_bytree=0.4,\n",
       "              device=None, early_stopping_rounds=None, enable_categorical=False,\n",
       "              eval_metric=None, feature_types=None, gamma=0.0, grow_policy=None,\n",
       "              importance_type=None, interaction_constraints=None,\n",
       "              learning_rate=0.2, max_bin=None, max_cat_threshold=None,\n",
       "              max_cat_to_onehot=None, max_delta_step=None, max_depth=None,\n",
       "              max_leaves=None, min_child_weight=None, missing=nan,\n",
       "              monotone_constraints=None, multi_strategy=None, n_estimators=300,\n",
       "              n_jobs=None, num_parallel_tree=None, random_state=None, ...)</pre></div></div></div></div></div>"
      ],
      "text/plain": [
       "XGBClassifier(base_score=None, booster=None, callbacks=None,\n",
       "              colsample_bylevel=0.4, colsample_bynode=0.4, colsample_bytree=0.4,\n",
       "              device=None, early_stopping_rounds=None, enable_categorical=False,\n",
       "              eval_metric=None, feature_types=None, gamma=0.0, grow_policy=None,\n",
       "              importance_type=None, interaction_constraints=None,\n",
       "              learning_rate=0.2, max_bin=None, max_cat_threshold=None,\n",
       "              max_cat_to_onehot=None, max_delta_step=None, max_depth=None,\n",
       "              max_leaves=None, min_child_weight=None, missing=nan,\n",
       "              monotone_constraints=None, multi_strategy=None, n_estimators=300,\n",
       "              n_jobs=None, num_parallel_tree=None, random_state=None, ...)"
      ]
     },
     "execution_count": 26,
     "metadata": {},
     "output_type": "execute_result"
    }
   ],
   "source": [
    "best_model2 = XGBClassifier(**best_param1)\n",
    "\n",
    "best_model2.fit(X_train,y_train)"
   ]
  },
  {
   "cell_type": "code",
   "execution_count": 27,
   "metadata": {},
   "outputs": [
    {
     "name": "stdout",
     "output_type": "stream",
     "text": [
      "Best Evalution On XGBClassifier \n",
      "Accuracy:0.8851659076122316\n",
      "Classification Report:\n",
      "               precision    recall  f1-score   support\n",
      "\n",
      "           0       0.84      0.70      0.76      1626\n",
      "           1       0.90      0.95      0.92      4522\n",
      "\n",
      "    accuracy                           0.89      6148\n",
      "   macro avg       0.87      0.83      0.84      6148\n",
      "weighted avg       0.88      0.89      0.88      6148\n",
      "\n",
      "Confusion Matrix:\n",
      " [[1142  484]\n",
      " [ 222 4300]]\n"
     ]
    }
   ],
   "source": [
    "pred = best_model2.predict(X_test)\n",
    "\n",
    "print('Best Evalution On XGBClassifier ')\n",
    "\n",
    "print(f'Accuracy:{accuracy_score(y_test,pred)}')\n",
    "\n",
    "print(f'Classification Report:\\n {classification_report(y_test,pred)}')\n",
    "\n",
    "print(f'Confusion Matrix:\\n {confusion_matrix(y_test,pred)}')\n"
   ]
  },
  {
   "cell_type": "markdown",
   "metadata": {},
   "source": [
    "At the end of our model traning , Logistic Regression proved to perform better."
   ]
  },
  {
   "cell_type": "code",
   "execution_count": 28,
   "metadata": {},
   "outputs": [],
   "source": [
    "import pickle "
   ]
  },
  {
   "cell_type": "code",
   "execution_count": 29,
   "metadata": {},
   "outputs": [],
   "source": [
    "with open ('model.pkl','wb') as file:\n",
    "    pickle.dump(best_model1,file)"
   ]
  },
  {
   "cell_type": "code",
   "execution_count": 30,
   "metadata": {},
   "outputs": [],
   "source": [
    "with open('tfidf.pkl','wb') as file:\n",
    "    pickle.dump(tfidf,file)"
   ]
  },
  {
   "cell_type": "code",
   "execution_count": 31,
   "metadata": {},
   "outputs": [],
   "source": [
    "with open('le.pkl','wb')as file:\n",
    "    pickle.dump(le,file)"
   ]
  },
  {
   "cell_type": "code",
   "execution_count": 37,
   "metadata": {},
   "outputs": [
    {
     "data": {
      "text/plain": [
       "'Negative'"
      ]
     },
     "execution_count": 37,
     "metadata": {},
     "output_type": "execute_result"
    }
   ],
   "source": [
    "def model_test(text):\n",
    "    vector = tfidf.transform([text]).toarray()\n",
    "    prediction = best_model1.predict(vector)\n",
    "    return le.inverse_transform(prediction)[0] \n",
    "\n",
    "model_test('this hotel is dirty')"
   ]
  },
  {
   "cell_type": "code",
   "execution_count": null,
   "metadata": {},
   "outputs": [],
   "source": []
  },
  {
   "cell_type": "code",
   "execution_count": null,
   "metadata": {},
   "outputs": [],
   "source": []
  }
 ],
 "metadata": {
  "kernelspec": {
   "display_name": "Python 3",
   "language": "python",
   "name": "python3"
  },
  "language_info": {
   "codemirror_mode": {
    "name": "ipython",
    "version": 3
   },
   "file_extension": ".py",
   "mimetype": "text/x-python",
   "name": "python",
   "nbconvert_exporter": "python",
   "pygments_lexer": "ipython3",
   "version": "3.11.5"
  }
 },
 "nbformat": 4,
 "nbformat_minor": 2
}
